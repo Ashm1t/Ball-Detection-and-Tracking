{
 "cells": [
  {
   "cell_type": "code",
   "execution_count": 2,
   "metadata": {},
   "outputs": [],
   "source": [
    "import cv2\n",
    "import numpy as np\n",
    "import os\n",
    "from datetime import datetime"
   ]
  },
  {
   "cell_type": "code",
   "execution_count": 46,
   "metadata": {},
   "outputs": [],
   "source": [
    "video_path = 'D:\\System 69\\Downloads\\dre.mp4'  \n",
    "cap = cv2.VideoCapture(video_path)\n",
    "\n",
    "if not cap.isOpened():\n",
    "    print(\"Error: Could not open video.\")\n",
    "    exit()\n"
   ]
  },
  {
   "cell_type": "code",
   "execution_count": 43,
   "metadata": {},
   "outputs": [],
   "source": [
    "fps = cap.get(cv2.CAP_PROP_FPS)\n",
    "frame_width = int(cap.get(cv2.CAP_PROP_FRAME_WIDTH))\n",
    "frame_height = int(cap.get(cv2.CAP_PROP_FRAME_HEIGHT))\n"
   ]
  },
  {
   "cell_type": "code",
   "execution_count": 42,
   "metadata": {},
   "outputs": [],
   "source": [
    "quadrant_width = frame_width // 2\n",
    "quadrant_height = frame_height // 2\n",
    "\n",
    "quadrants = {\n",
    "    3: [(0, 0), (quadrant_width, quadrant_height)],\n",
    "    4: [(quadrant_width, 0), (frame_width, quadrant_height)],\n",
    "    2: [(0, quadrant_height), (quadrant_width, frame_height)],\n",
    "    1: [(quadrant_width, quadrant_height), (frame_width, frame_height)]\n",
    "}\n"
   ]
  },
  {
   "cell_type": "code",
   "execution_count": 6,
   "metadata": {},
   "outputs": [],
   "source": [
    "color_ranges = {\n",
    "    'yellow-ish': ([25, 100, 50], [35, 255, 255]),   \n",
    "    'blue-ish': ([80, 50, 50], [100, 255, 255]),     \n",
    "    'orange-ish': ([5, 150, 100], [15, 255, 255]) ,  \n",
    "    'white': ([0, 0, 200], [180, 30, 255])           \n",
    "}"
   ]
  },
  {
   "cell_type": "code",
   "execution_count": 7,
   "metadata": {},
   "outputs": [],
   "source": [
    "def get_quadrant(x, y, quadrants):\n",
    "    for quad_num, ((x1, y1), (x2, y2)) in quadrants.items():\n",
    "        if x1 <= x < x2 and y1 <= y < y2:\n",
    "            return quad_num\n",
    "    return None\n",
    "\n",
    "\n"
   ]
  },
  {
   "cell_type": "code",
   "execution_count": 8,
   "metadata": {},
   "outputs": [],
   "source": [
    "def draw_quadrants(frame, quadrants):\n",
    "   \n",
    "    for quad_num, ((x1, y1), (x2, y2)) in quadrants.items():\n",
    "        # Draw rectangle\n",
    "        cv2.rectangle(frame, (x1, y1), (x2, y2), (255, 0, 0), 2)\n",
    "        # Display quadrant number\n",
    "        text_position = ((x1 + x2) // 2, (y1 + y2) // 2)\n",
    "        cv2.putText(frame, f\"Q{quad_num}\", text_position, cv2.FONT_HERSHEY_SIMPLEX, 1, (255, 0, 0), 2, cv2.LINE_AA)"
   ]
  },
  {
   "cell_type": "code",
   "execution_count": 9,
   "metadata": {},
   "outputs": [],
   "source": [
    "def detect_ball_color(hsv_frame, color_ranges):\n",
    "    for color, (lower, upper) in color_ranges.items():\n",
    "        lower_bound = np.array(lower, dtype=\"uint8\")\n",
    "        upper_bound = np.array(upper, dtype=\"uint8\")\n",
    "        mask = cv2.inRange(hsv_frame, lower_bound, upper_bound)\n",
    "        if cv2.countNonZero(mask) > 0:\n",
    "            return color\n",
    "    return None\n"
   ]
  },
  {
   "cell_type": "code",
   "execution_count": 38,
   "metadata": {},
   "outputs": [],
   "source": [
    "\n",
    "def display_event_text(frame, quad_num, event):\n",
    "    corner_x = quadrants[quad_num][0][0] + 10\n",
    "    corner_y = quadrants[quad_num][0][1] + 30\n",
    "    cv2.putText(frame, event, (corner_x, corner_y), cv2.FONT_HERSHEY_SIMPLEX, 0.5, (0, 0, 255), 2)"
   ]
  },
  {
   "cell_type": "code",
   "execution_count": 10,
   "metadata": {},
   "outputs": [],
   "source": [
    "def refine_mask(mask):\n",
    "    kernel = np.ones((5, 5), np.uint8)\n",
    "    mask = cv2.morphologyEx(mask, cv2.MORPH_CLOSE, kernel)\n",
    "    mask = cv2.morphologyEx(mask, cv2.MORPH_OPEN, kernel)\n",
    "    return mask"
   ]
  },
  {
   "cell_type": "code",
   "execution_count": 47,
   "metadata": {},
   "outputs": [],
   "source": [
    "\n",
    "event_log = []\n",
    "ball_positions = {}\n",
    "\n",
    "\n",
    "while True:\n",
    "    ret, frame = cap.read()\n",
    "    if not ret:\n",
    "        break\n",
    "\n",
    "    hsv_frame = cv2.cvtColor(frame, cv2.COLOR_BGR2HSV)\n",
    "    timestamp = cap.get(cv2.CAP_PROP_POS_MSEC) / 1000.0  \n",
    "    draw_quadrants(frame, quadrants)\n",
    "\n",
    "    for color, (lower_bound, upper_bound) in color_ranges.items():\n",
    "        mask = cv2.inRange(hsv_frame, np.array(lower_bound), np.array(upper_bound))\n",
    "        mask = refine_mask(mask)\n",
    "\n",
    "        if color == 'white':\n",
    "            \n",
    "            kernel = np.ones((5, 5), np.uint8)\n",
    "            mask = cv2.erode(mask, kernel, iterations=2)\n",
    "            mask = cv2.dilate(mask, kernel, iterations=2)\n",
    "\n",
    "            gray = cv2.cvtColor(frame, cv2.COLOR_BGR2GRAY)\n",
    "            circles = cv2.HoughCircles(gray, cv2.HOUGH_GRADIENT, dp=1.2, minDist=20,\n",
    "                                       param1=50, param2=30, minRadius=27, maxRadius=40)\n",
    "\n",
    "            if circles is not None:\n",
    "                circles = np.round(circles[0, :]).astype(\"int\")\n",
    "                for (x, y, r) in circles:\n",
    "                    if mask[y, x] > 0:  \n",
    "                        cx, cy = x, y\n",
    "                        quadrant = get_quadrant(cx, cy, quadrants)\n",
    "                        ball_id = f\"{color}_ball\"\n",
    "\n",
    "                        if ball_id in ball_positions:\n",
    "                            prev_quad, entry_time = ball_positions[ball_id]\n",
    "                            if quadrant != prev_quad and (timestamp - entry_time) >= 4:\n",
    "                                event_log.append((timestamp, prev_quad, color, 'Exit'))\n",
    "                                event_log.append((timestamp, quadrant, color, 'Entry'))\n",
    "                                ball_positions[ball_id] = (quadrant, timestamp)\n",
    "                        else:\n",
    "                            event_log.append((timestamp, quadrant, color, 'Entry'))\n",
    "                            ball_positions[ball_id] = (quadrant, timestamp)\n",
    "\n",
    "                        # Visualizing the centre of a countour \n",
    "                        cv2.circle(frame, (cx, cy), r, (0, 255, 0), 2)\n",
    "                        cv2.putText(frame, f\"{color}\", (cx - r, cy - r), cv2.FONT_HERSHEY_SIMPLEX, 0.5, (0, 255, 0), 2)\n",
    "\n",
    "        else:\n",
    "            contours, _ = cv2.findContours(mask, cv2.RETR_EXTERNAL, cv2.CHAIN_APPROX_SIMPLE)\n",
    "\n",
    "            for contour in contours:\n",
    "                if cv2.contourArea(contour) > 1000:  # Min size of contour to filter noise\n",
    "                    (x, y), radius = cv2.minEnclosingCircle(contour)\n",
    "                    center = (int(x), int(y))\n",
    "                    radius = int(radius)\n",
    "\n",
    "                    quadrant = get_quadrant(center[0], center[1], quadrants)\n",
    "                    ball_id = f\"{color}_ball\"\n",
    "\n",
    "                    if ball_id in ball_positions:\n",
    "                        prev_quad, entry_time = ball_positions[ball_id]\n",
    "                        if quadrant != prev_quad and (timestamp - entry_time) >= 4:\n",
    "                            event_log.append((timestamp, prev_quad, color, 'Exit'))\n",
    "                            event_log.append((timestamp, quadrant, color, 'Entry'))\n",
    "                            ball_positions[ball_id] = (quadrant, timestamp)\n",
    "                    else:\n",
    "                        event_log.append((timestamp, quadrant, color, 'Entry'))\n",
    "                        ball_positions[ball_id] = (quadrant, timestamp)\n",
    "\n",
    "                    # Drawing for visualization\n",
    "                    cv2.circle(frame, center, radius, (0, 255, 0), 2)\n",
    "                    cv2.putText(frame, f\"{color}\", (center[0] - radius, center[1] - radius), cv2.FONT_HERSHEY_SIMPLEX, 0.5, (0, 255, 0), 2)\n",
    "\n",
    "\n",
    "    cv2.imshow('Frame', frame)\n",
    "    if cv2.waitKey(1) & 0xFF == ord('q'):\n",
    "        break\n",
    "\n",
    "cap.release()\n",
    "cv2.destroyAllWindows()"
   ]
  },
  {
   "cell_type": "code",
   "execution_count": 25,
   "metadata": {},
   "outputs": [],
   "source": [
    "log_path = r'D:\\System 69\\New folder\\events.txt'\n",
    "\n",
    "with open(log_path, 'w') as log_file:\n",
    "    log_file.write(\"Time, Quadrant Number, Ball Colour, Event Type\\n\")\n",
    "    for event in event_log:\n",
    "        log_file.write(f\"{event[0]:.2f}, {event[1]}, {event[2]}, {event[3]}\\n\")\n"
   ]
  },
  {
   "cell_type": "code",
   "execution_count": 28,
   "metadata": {},
   "outputs": [],
   "source": [
    "output_video_path = r'D:\\System 69\\New folder\\dre.mp4'  # Update with your output video path\n",
    "out = cv2.VideoWriter(output_video_path, cv2.VideoWriter_fourcc(*'mp4v'), fps, (frame_width, frame_height))\n",
    "\n",
    "cap = cv2.VideoCapture(video_path)\n",
    "while True:\n",
    "    ret, frame = cap.read()\n",
    "    if not ret:\n",
    "        break\n",
    "\n",
    "    \n",
    "\n",
    "    out.write(frame)\n",
    "\n",
    "cap.release()\n",
    "out.release()\n"
   ]
  }
 ],
 "metadata": {
  "kernelspec": {
   "display_name": "Python 3",
   "language": "python",
   "name": "python3"
  },
  "language_info": {
   "codemirror_mode": {
    "name": "ipython",
    "version": 3
   },
   "file_extension": ".py",
   "mimetype": "text/x-python",
   "name": "python",
   "nbconvert_exporter": "python",
   "pygments_lexer": "ipython3",
   "version": "3.9.9"
  }
 },
 "nbformat": 4,
 "nbformat_minor": 2
}
